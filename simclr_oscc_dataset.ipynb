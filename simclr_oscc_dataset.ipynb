{
  "metadata": {
    "kernelspec": {
      "language": "python",
      "display_name": "Python 3",
      "name": "python3"
    },
    "language_info": {
      "name": "python",
      "version": "3.10.14",
      "mimetype": "text/x-python",
      "codemirror_mode": {
        "name": "ipython",
        "version": 3
      },
      "pygments_lexer": "ipython3",
      "nbconvert_exporter": "python",
      "file_extension": ".py"
    },
    "kaggle": {
      "accelerator": "gpu",
      "dataSources": [
        {
          "sourceId": 2449781,
          "sourceType": "datasetVersion",
          "datasetId": 1482677
        },
        {
          "sourceId": 9872865,
          "sourceType": "datasetVersion",
          "datasetId": 6060870
        },
        {
          "sourceId": 9873913,
          "sourceType": "datasetVersion",
          "datasetId": 6061698
        },
        {
          "sourceId": 9883963,
          "sourceType": "datasetVersion",
          "datasetId": 6069340
        }
      ],
      "dockerImageVersionId": 30787,
      "isInternetEnabled": false,
      "language": "python",
      "sourceType": "notebook",
      "isGpuEnabled": true
    },
    "colab": {
      "provenance": []
    }
  },
  "nbformat_minor": 0,
  "nbformat": 4,
  "cells": [
    {
      "cell_type": "code",
      "source": [
        "import os\n",
        "import numpy as np\n",
        "import tensorflow as tf\n",
        "from tensorflow.keras import layers, models\n",
        "from tensorflow.keras.preprocessing.image import ImageDataGenerator\n",
        "from tensorflow.keras.callbacks import ReduceLROnPlateau, ModelCheckpoint\n",
        "from tensorflow.keras.optimizers import Adam\n"
      ],
      "metadata": {
        "trusted": true,
        "execution": {
          "iopub.status.busy": "2024-11-12T12:29:57.405526Z",
          "iopub.execute_input": "2024-11-12T12:29:57.405949Z",
          "iopub.status.idle": "2024-11-12T12:30:10.643020Z",
          "shell.execute_reply.started": "2024-11-12T12:29:57.405900Z",
          "shell.execute_reply": "2024-11-12T12:30:10.642099Z"
        },
        "id": "KPOyB5wyPCSX"
      },
      "outputs": [],
      "execution_count": null
    },
    {
      "cell_type": "code",
      "source": [
        "train_dir = '/kaggle/input/dataset/train'\n",
        "val_dir = '/kaggle/input/dataset/val'\n",
        "test_dir = '/kaggle/input/dataset/test'\n"
      ],
      "metadata": {
        "trusted": true,
        "execution": {
          "iopub.status.busy": "2024-11-12T12:30:10.644951Z",
          "iopub.execute_input": "2024-11-12T12:30:10.645728Z",
          "iopub.status.idle": "2024-11-12T12:30:10.650549Z",
          "shell.execute_reply.started": "2024-11-12T12:30:10.645680Z",
          "shell.execute_reply": "2024-11-12T12:30:10.649481Z"
        },
        "id": "HX62fGDbPCSb"
      },
      "outputs": [],
      "execution_count": null
    },
    {
      "cell_type": "code",
      "source": [
        "# Image size and batch size\n",
        "image_size = (224, 224)\n",
        "batch_size = 32\n",
        "\n",
        "# Data augmentation and preprocessing for the training set\n",
        "train_datagen = ImageDataGenerator(\n",
        "    rescale=1./255,\n",
        "    rotation_range=30,\n",
        "    width_shift_range=0.2,\n",
        "    height_shift_range=0.2,\n",
        "    shear_range=0.2,\n",
        "    zoom_range=0.2,\n",
        "    horizontal_flip=True,\n",
        "    fill_mode='nearest'\n",
        ")\n",
        "\n",
        "# Data preprocessing for validation and test sets\n",
        "val_test_datagen = ImageDataGenerator(rescale=1./255)\n",
        "\n",
        "# Data generators for training, validation, and test\n",
        "train_generator = train_datagen.flow_from_directory(\n",
        "    train_dir,\n",
        "    target_size=image_size,\n",
        "    batch_size=batch_size,\n",
        "    class_mode='binary'  # binary because you're doing binary classification\n",
        ")\n",
        "\n",
        "val_generator = val_test_datagen.flow_from_directory(\n",
        "    val_dir,\n",
        "    target_size=image_size,\n",
        "    batch_size=batch_size,\n",
        "    class_mode='binary'\n",
        ")\n",
        "\n",
        "test_generator = val_test_datagen.flow_from_directory(\n",
        "    test_dir,\n",
        "    target_size=image_size,\n",
        "    batch_size=batch_size,\n",
        "    class_mode='binary'\n",
        ")\n"
      ],
      "metadata": {
        "trusted": true,
        "execution": {
          "iopub.status.busy": "2024-11-12T12:30:10.651774Z",
          "iopub.execute_input": "2024-11-12T12:30:10.652135Z",
          "iopub.status.idle": "2024-11-12T12:30:16.213589Z",
          "shell.execute_reply.started": "2024-11-12T12:30:10.652092Z",
          "shell.execute_reply": "2024-11-12T12:30:16.212644Z"
        },
        "id": "fhMkmsDgPCSe",
        "outputId": "98d006a5-fb5e-41a7-fa2c-257e2d736e55"
      },
      "outputs": [
        {
          "name": "stdout",
          "text": "Found 4946 images belonging to 2 classes.\nFound 120 images belonging to 2 classes.\nFound 126 images belonging to 2 classes.\n",
          "output_type": "stream"
        }
      ],
      "execution_count": null
    },
    {
      "cell_type": "code",
      "source": [
        "# Load the previously saved SimCLR model\n",
        "model = tf.keras.models.load_model('/kaggle/input/new-model/simclr_model_best.keras')\n",
        "\n",
        "# Remove the last layer and replace it with a new one suited for binary classification\n",
        "x = model.layers[-2].output  # Get the output of the second-to-last layer\n",
        "output = layers.Dense(1, activation='sigmoid', name='output_dense')(x)  # Add a sigmoid output layer with a unique name\n",
        "\n",
        "# Create the new model\n",
        "model = models.Model(inputs=model.input, outputs=output)\n",
        "\n",
        "# Compile the model with binary crossentropy loss and an Adam optimizer\n",
        "model.compile(optimizer=Adam(learning_rate=1e-5), loss='binary_crossentropy', metrics=['accuracy'])\n"
      ],
      "metadata": {
        "trusted": true,
        "execution": {
          "iopub.status.busy": "2024-11-12T12:30:16.215704Z",
          "iopub.execute_input": "2024-11-12T12:30:16.216050Z",
          "iopub.status.idle": "2024-11-12T12:30:33.951839Z",
          "shell.execute_reply.started": "2024-11-12T12:30:16.216015Z",
          "shell.execute_reply": "2024-11-12T12:30:33.951009Z"
        },
        "id": "UebMGIy_PCSh"
      },
      "outputs": [],
      "execution_count": null
    },
    {
      "cell_type": "code",
      "source": [
        "# Learning rate reduction callback\n",
        "lr_reduction = ReduceLROnPlateau(\n",
        "    monitor='val_loss',\n",
        "    factor=0.5,\n",
        "    patience=3,\n",
        "    verbose=1,\n",
        "    min_lr=1e-6\n",
        ")\n",
        "\n",
        "# Model checkpoint callback (saving the best model during training)\n",
        "checkpoint = ModelCheckpoint(\n",
        "    '/kaggle/working/simclr_model_best.keras',\n",
        "    monitor='val_loss',\n",
        "    verbose=1,\n",
        "    save_best_only=True,\n",
        "    save_weights_only=False\n",
        ")\n"
      ],
      "metadata": {
        "trusted": true,
        "execution": {
          "iopub.status.busy": "2024-11-12T12:30:33.952954Z",
          "iopub.execute_input": "2024-11-12T12:30:33.953262Z",
          "iopub.status.idle": "2024-11-12T12:30:33.958680Z",
          "shell.execute_reply.started": "2024-11-12T12:30:33.953224Z",
          "shell.execute_reply": "2024-11-12T12:30:33.957708Z"
        },
        "id": "FigHU0LfPCSi"
      },
      "outputs": [],
      "execution_count": null
    },
    {
      "cell_type": "code",
      "source": [
        "# Train the model\n",
        "history = model.fit(\n",
        "    train_generator,\n",
        "    epochs=20,\n",
        "    validation_data=val_generator,\n",
        "    callbacks=[lr_reduction, checkpoint],  # Callbacks for model saving and learning rate adjustment\n",
        "    verbose=2\n",
        ")\n"
      ],
      "metadata": {
        "trusted": true,
        "execution": {
          "iopub.status.busy": "2024-11-12T12:30:33.959834Z",
          "iopub.execute_input": "2024-11-12T12:30:33.960134Z",
          "iopub.status.idle": "2024-11-12T13:13:50.884309Z",
          "shell.execute_reply.started": "2024-11-12T12:30:33.960103Z",
          "shell.execute_reply": "2024-11-12T13:13:50.883449Z"
        },
        "id": "tZRO7KcSPCSk",
        "outputId": "568358e3-e3e6-4e3c-c029-0c241aee7415"
      },
      "outputs": [
        {
          "name": "stdout",
          "text": "Epoch 1/20\n",
          "output_type": "stream"
        },
        {
          "name": "stderr",
          "text": "/opt/conda/lib/python3.10/site-packages/keras/src/trainers/data_adapters/py_dataset_adapter.py:121: UserWarning: Your `PyDataset` class should call `super().__init__(**kwargs)` in its constructor. `**kwargs` can include `workers`, `use_multiprocessing`, `max_queue_size`. Do not pass these arguments to `fit()`, as they will be ignored.\n  self._warn_if_super_not_called()\nWARNING: All log messages before absl::InitializeLog() is called are written to STDERR\nI0000 00:00:1731414678.685050     113 service.cc:145] XLA service 0x79b180003d40 initialized for platform CUDA (this does not guarantee that XLA will be used). Devices:\nI0000 00:00:1731414678.685101     113 service.cc:153]   StreamExecutor device (0): Tesla P100-PCIE-16GB, Compute Capability 6.0\nWARNING: All log messages before absl::InitializeLog() is called are written to STDERR\nI0000 00:00:1731414708.436094     113 asm_compiler.cc:369] ptxas warning : Registers are spilled to local memory in function 'loop_add_subtract_fusion_36', 16 bytes spill stores, 16 bytes spill loads\n\nI0000 00:00:1731414708.484372     113 device_compiler.h:188] Compiled cluster using XLA!  This line is logged at most once for the lifetime of the process.\n",
          "output_type": "stream"
        },
        {
          "name": "stdout",
          "text": "\nEpoch 1: val_loss improved from inf to 0.33858, saving model to /kaggle/working/simclr_model_best.keras\n155/155 - 276s - 2s/step - accuracy: 0.5736 - loss: 0.7978 - val_accuracy: 0.8500 - val_loss: 0.3386 - learning_rate: 1.0000e-05\nEpoch 2/20\n\nEpoch 2: val_loss improved from 0.33858 to 0.28303, saving model to /kaggle/working/simclr_model_best.keras\n155/155 - 119s - 768ms/step - accuracy: 0.8577 - loss: 0.3283 - val_accuracy: 0.8583 - val_loss: 0.2830 - learning_rate: 1.0000e-05\nEpoch 3/20\n\nEpoch 3: val_loss did not improve from 0.28303\n155/155 - 120s - 772ms/step - accuracy: 0.9254 - loss: 0.2188 - val_accuracy: 0.8750 - val_loss: 0.2858 - learning_rate: 1.0000e-05\nEpoch 4/20\n\nEpoch 4: val_loss did not improve from 0.28303\n155/155 - 142s - 919ms/step - accuracy: 0.9416 - loss: 0.1675 - val_accuracy: 0.8750 - val_loss: 0.3092 - learning_rate: 1.0000e-05\nEpoch 5/20\n\nEpoch 5: ReduceLROnPlateau reducing learning rate to 4.999999873689376e-06.\n\nEpoch 5: val_loss did not improve from 0.28303\n155/155 - 143s - 921ms/step - accuracy: 0.9517 - loss: 0.1459 - val_accuracy: 0.8833 - val_loss: 0.3023 - learning_rate: 1.0000e-05\nEpoch 6/20\n\nEpoch 6: val_loss did not improve from 0.28303\n155/155 - 124s - 802ms/step - accuracy: 0.9614 - loss: 0.1201 - val_accuracy: 0.9000 - val_loss: 0.2996 - learning_rate: 5.0000e-06\nEpoch 7/20\n\nEpoch 7: val_loss did not improve from 0.28303\n155/155 - 122s - 785ms/step - accuracy: 0.9616 - loss: 0.1199 - val_accuracy: 0.8917 - val_loss: 0.3024 - learning_rate: 5.0000e-06\nEpoch 8/20\n\nEpoch 8: ReduceLROnPlateau reducing learning rate to 2.499999936844688e-06.\n\nEpoch 8: val_loss did not improve from 0.28303\n155/155 - 124s - 798ms/step - accuracy: 0.9646 - loss: 0.1083 - val_accuracy: 0.8833 - val_loss: 0.3038 - learning_rate: 5.0000e-06\nEpoch 9/20\n\nEpoch 9: val_loss did not improve from 0.28303\n155/155 - 125s - 804ms/step - accuracy: 0.9648 - loss: 0.1064 - val_accuracy: 0.8917 - val_loss: 0.3168 - learning_rate: 2.5000e-06\nEpoch 10/20\n\nEpoch 10: val_loss did not improve from 0.28303\n155/155 - 118s - 764ms/step - accuracy: 0.9721 - loss: 0.0939 - val_accuracy: 0.8833 - val_loss: 0.3201 - learning_rate: 2.5000e-06\nEpoch 11/20\n\nEpoch 11: ReduceLROnPlateau reducing learning rate to 1.249999968422344e-06.\n\nEpoch 11: val_loss did not improve from 0.28303\n155/155 - 119s - 767ms/step - accuracy: 0.9705 - loss: 0.0985 - val_accuracy: 0.8750 - val_loss: 0.3188 - learning_rate: 2.5000e-06\nEpoch 12/20\n\nEpoch 12: val_loss did not improve from 0.28303\n155/155 - 119s - 770ms/step - accuracy: 0.9755 - loss: 0.0876 - val_accuracy: 0.8750 - val_loss: 0.3139 - learning_rate: 1.2500e-06\nEpoch 13/20\n\nEpoch 13: val_loss did not improve from 0.28303\n155/155 - 118s - 763ms/step - accuracy: 0.9699 - loss: 0.1009 - val_accuracy: 0.8917 - val_loss: 0.3174 - learning_rate: 1.2500e-06\nEpoch 14/20\n\nEpoch 14: ReduceLROnPlateau reducing learning rate to 1e-06.\n\nEpoch 14: val_loss did not improve from 0.28303\n155/155 - 118s - 760ms/step - accuracy: 0.9753 - loss: 0.0819 - val_accuracy: 0.8917 - val_loss: 0.3125 - learning_rate: 1.2500e-06\nEpoch 15/20\n\nEpoch 15: val_loss did not improve from 0.28303\n155/155 - 113s - 731ms/step - accuracy: 0.9735 - loss: 0.0879 - val_accuracy: 0.8917 - val_loss: 0.3191 - learning_rate: 1.0000e-06\nEpoch 16/20\n\nEpoch 16: val_loss did not improve from 0.28303\n155/155 - 120s - 774ms/step - accuracy: 0.9745 - loss: 0.0817 - val_accuracy: 0.8917 - val_loss: 0.3193 - learning_rate: 1.0000e-06\nEpoch 17/20\n\nEpoch 17: val_loss did not improve from 0.28303\n155/155 - 117s - 754ms/step - accuracy: 0.9778 - loss: 0.0798 - val_accuracy: 0.9000 - val_loss: 0.3237 - learning_rate: 1.0000e-06\nEpoch 18/20\n\nEpoch 18: val_loss did not improve from 0.28303\n155/155 - 122s - 787ms/step - accuracy: 0.9743 - loss: 0.0856 - val_accuracy: 0.9000 - val_loss: 0.3184 - learning_rate: 1.0000e-06\nEpoch 19/20\n\nEpoch 19: val_loss did not improve from 0.28303\n155/155 - 119s - 771ms/step - accuracy: 0.9790 - loss: 0.0795 - val_accuracy: 0.9000 - val_loss: 0.3152 - learning_rate: 1.0000e-06\nEpoch 20/20\n\nEpoch 20: val_loss did not improve from 0.28303\n155/155 - 116s - 746ms/step - accuracy: 0.9745 - loss: 0.0772 - val_accuracy: 0.9083 - val_loss: 0.3207 - learning_rate: 1.0000e-06\n",
          "output_type": "stream"
        }
      ],
      "execution_count": null
    },
    {
      "cell_type": "code",
      "source": [
        "# Evaluate the model on the test set\n",
        "test_loss, test_accuracy = model.evaluate(test_generator)\n",
        "print(f\"Test Loss: {test_loss}\")\n",
        "print(f\"Test Accuracy: {test_accuracy}\")\n"
      ],
      "metadata": {
        "trusted": true,
        "execution": {
          "iopub.status.busy": "2024-11-12T13:13:50.885620Z",
          "iopub.execute_input": "2024-11-12T13:13:50.886278Z",
          "iopub.status.idle": "2024-11-12T13:14:08.360623Z",
          "shell.execute_reply.started": "2024-11-12T13:13:50.886233Z",
          "shell.execute_reply": "2024-11-12T13:14:08.359578Z"
        },
        "id": "uLu5ovCWPCSm",
        "outputId": "f13576ea-a7a3-407f-a45f-804894418326"
      },
      "outputs": [
        {
          "name": "stdout",
          "text": "\u001b[1m4/4\u001b[0m \u001b[32m━━━━━━━━━━━━━━━━━━━━\u001b[0m\u001b[37m\u001b[0m \u001b[1m12s\u001b[0m 3s/step - accuracy: 0.9454 - loss: 0.1980\nTest Loss: 0.23418262600898743\nTest Accuracy: 0.9365079402923584\n",
          "output_type": "stream"
        }
      ],
      "execution_count": null
    },
    {
      "cell_type": "code",
      "source": [
        "import matplotlib.pyplot as plt\n",
        "\n",
        "# Extract loss values from the training history\n",
        "train_loss = history.history['loss']\n",
        "val_loss = history.history['val_loss']\n",
        "\n",
        "# Plot the training and validation loss\n",
        "plt.figure(figsize=(8, 6))\n",
        "plt.plot(train_loss, label='Training Loss', color='blue')\n",
        "plt.plot(val_loss, label='Validation Loss', color='red')\n",
        "plt.title('Training and Validation Loss')\n",
        "plt.xlabel('Epochs')\n",
        "plt.ylabel('Loss')\n",
        "plt.legend()\n",
        "plt.grid(True)\n",
        "plt.show()\n"
      ],
      "metadata": {
        "trusted": true,
        "execution": {
          "iopub.status.busy": "2024-11-12T13:14:08.361829Z",
          "iopub.execute_input": "2024-11-12T13:14:08.362141Z",
          "iopub.status.idle": "2024-11-12T13:14:08.748308Z",
          "shell.execute_reply.started": "2024-11-12T13:14:08.362108Z",
          "shell.execute_reply": "2024-11-12T13:14:08.747273Z"
        },
        "id": "13d5uTwEPCSn",
        "outputId": "57b76f32-764b-4856-9684-cd7295a5f839"
      },
      "outputs": [
        {
          "output_type": "display_data",
          "data": {
            "text/plain": "<Figure size 800x600 with 1 Axes>",
            "image/png": "[encoded data removed]"
          },
          "metadata": {}
        }
      ],
      "execution_count": null
    },
    {
      "cell_type": "code",
      "source": [
        "# Save the final model\n",
        "model.save('/kaggle/working/simclr_model_final.keras')\n"
      ],
      "metadata": {
        "trusted": true,
        "execution": {
          "iopub.status.busy": "2024-11-12T13:14:08.749878Z",
          "iopub.execute_input": "2024-11-12T13:14:08.750362Z",
          "iopub.status.idle": "2024-11-12T13:14:10.247349Z",
          "shell.execute_reply.started": "2024-11-12T13:14:08.750314Z",
          "shell.execute_reply": "2024-11-12T13:14:10.246263Z"
        },
        "id": "8tvGALmEPCSp"
      },
      "outputs": [],
      "execution_count": null
    }
  ]
}